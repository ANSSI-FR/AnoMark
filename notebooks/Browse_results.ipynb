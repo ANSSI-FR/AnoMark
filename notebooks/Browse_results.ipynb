{
 "cells": [
  {
   "cell_type": "markdown",
   "metadata": {},
   "source": [
    "*Packages and window resizing*"
   ]
  },
  {
   "cell_type": "code",
   "execution_count": null,
   "metadata": {},
   "outputs": [],
   "source": [
    "import pandas as pd\n",
    "from glob import glob"
   ]
  },
  {
   "cell_type": "code",
   "execution_count": null,
   "metadata": {},
   "outputs": [],
   "source": [
    "from IPython.core.display import display, HTML\n",
    "display(HTML(\"<style>.container { width:80% !important; }</style>\"))"
   ]
  },
  {
   "cell_type": "markdown",
   "metadata": {},
   "source": [
    "# Result data import"
   ]
  },
  {
   "cell_type": "markdown",
   "metadata": {},
   "source": [
    "The default path for results is ../results if you have executed the code directly inside AnoMark. If not, you can specify the path in RESULTS_PATH"
   ]
  },
  {
   "cell_type": "code",
   "execution_count": null,
   "metadata": {},
   "outputs": [],
   "source": [
    "RESULTS_PATH = \"../results\" # default: RESULTS_PATH = \"../results\"\n",
    "\n",
    "print(\"Files in results folder:\")\n",
    "print('\\n'.join(reversed(sorted(glob(RESULTS_PATH + \"/*\")))))"
   ]
  },
  {
   "cell_type": "code",
   "execution_count": null,
   "metadata": {},
   "outputs": [],
   "source": [
    "FILE_SELECTED = sorted(glob(RESULTS_PATH + \"/*\"))[0] # Put here the file you want to explore\n",
    "# default glob(RESULTS_PATH + \"/*\")[0], which is the newest file\n",
    "\n",
    "df = pd.read_csv(FILE_SELECTED, sep=',')"
   ]
  },
  {
   "cell_type": "code",
   "execution_count": null,
   "metadata": {},
   "outputs": [],
   "source": [
    "FILE_SELECTED"
   ]
  },
  {
   "cell_type": "markdown",
   "metadata": {},
   "source": [
    "If you have troubles with separator chosen, maybe try \";\""
   ]
  },
  {
   "cell_type": "markdown",
   "metadata": {},
   "source": [
    "# Explore the results"
   ]
  },
  {
   "cell_type": "markdown",
   "metadata": {},
   "source": [
    "Hence, the results data is loaded in *df* variable"
   ]
  },
  {
   "cell_type": "code",
   "execution_count": null,
   "metadata": {},
   "outputs": [],
   "source": [
    "df.head()"
   ]
  },
  {
   "cell_type": "markdown",
   "metadata": {},
   "source": [
    "You have to specify the column name in which the command lines are"
   ]
  },
  {
   "cell_type": "code",
   "execution_count": null,
   "metadata": {},
   "outputs": [],
   "source": [
    "COL_NAME = \"\" # example: COL_NAME = \"CommandLine\""
   ]
  },
  {
   "cell_type": "markdown",
   "metadata": {},
   "source": [
    "Finally, we apply a whitelist on lines that contain some keywords. Only available by default for COL_NAME"
   ]
  },
  {
   "cell_type": "code",
   "execution_count": null,
   "metadata": {
    "scrolled": false
   },
   "outputs": [],
   "source": [
    "WHITELIST = []\n",
    "# default : WHITELIST = []\n",
    "# example: WHITELIST = [\"chrome.exe\", \"firefox.exe\"] \n",
    "\n",
    "def containsWhitelist(x):\n",
    "    for elt in WHITELIST:\n",
    "        if elt in x:\n",
    "            return False\n",
    "    return True\n",
    "\n",
    "df_filtered = df[df[COL_NAME].apply(containsWhitelist)]"
   ]
  },
  {
   "cell_type": "markdown",
   "metadata": {},
   "source": [
    "### Display top N unusual command lines after whitelisting"
   ]
  },
  {
   "cell_type": "code",
   "execution_count": null,
   "metadata": {},
   "outputs": [],
   "source": [
    "N = 50\n",
    "COLOR_LETTERS = True\n",
    "\n",
    "for i in range(min(N, len(df_filtered))):\n",
    "    print('----- top {} ----'.format(i+1))\n",
    "    \n",
    "    if COLOR_LETTERS:\n",
    "        print()\n",
    "        print(df_filtered.iloc[i]['Colored {}'.format(COL_NAME)])\n",
    "        print()\n",
    "    else:\n",
    "        print(df_filtered.iloc[i][CMD_COL_NAME])\n",
    "    print()"
   ]
  },
  {
   "cell_type": "markdown",
   "metadata": {},
   "source": [
    "## Ranking Users (example only working for windows events 4688)"
   ]
  },
  {
   "cell_type": "code",
   "execution_count": null,
   "metadata": {},
   "outputs": [],
   "source": [
    "userRank = df.set_index(df.columns.drop(\"List of all SubjectUserName\",1).tolist())[\"List of all SubjectUserName\"] \\\n",
    "        .str.split(' - ', expand=True) \\\n",
    "        .stack() \\\n",
    "        .reset_index() \\\n",
    "        .rename(columns={0:\"List of all SubjectUserName\"}) \\\n",
    "        .loc[:, df.columns]"
   ]
  },
  {
   "cell_type": "code",
   "execution_count": null,
   "metadata": {
    "scrolled": true
   },
   "outputs": [],
   "source": [
    "res = userRank.groupby(\"List of all SubjectUserName\")[\"markovScore\"].mean().sort_values()\n",
    "topUsers = list(res.index)\n",
    "for k in range(len(topUsers)):\n",
    "    print(\"--- Top {} ---\".format(k+1))\n",
    "    print(topUsers[k])\n",
    "    print(\"Score: {}\".format(res[topUsers[k]]))"
   ]
  }
 ],
 "metadata": {
  "kernelspec": {
   "display_name": "Python 3",
   "language": "python",
   "name": "python3"
  },
  "language_info": {
   "codemirror_mode": {
    "name": "ipython",
    "version": 3
   },
   "file_extension": ".py",
   "mimetype": "text/x-python",
   "name": "python",
   "nbconvert_exporter": "python",
   "pygments_lexer": "ipython3",
   "version": "3.8.10"
  }
 },
 "nbformat": 4,
 "nbformat_minor": 4
}
